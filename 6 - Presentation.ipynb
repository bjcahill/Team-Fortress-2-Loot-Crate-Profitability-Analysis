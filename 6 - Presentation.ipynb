{
 "cells": [
  {
   "cell_type": "markdown",
   "metadata": {},
   "source": [
    "# Data 301 Final Project: Team Fortress 2 Unusual Data Analysis"
   ]
  },
  {
   "cell_type": "markdown",
   "metadata": {},
   "source": [
    "## Introduction"
   ]
  },
  {
   "cell_type": "markdown",
   "metadata": {},
   "source": [
    "**Team Fortress 2** is a first-person, class based shooter game developed by Valve Software. The game was originally released in 2007 and is best known for it's cartoon graphics, it's nine playable classes, and it's in-game item economy. In this project, I am going to take a closer look at data involving the game's rarest and most expensive items, **unusuals**."
   ]
  },
  {
   "cell_type": "markdown",
   "metadata": {},
   "source": [
    "![](./PresentationPictures/tf2.png) "
   ]
  },
  {
   "cell_type": "markdown",
   "metadata": {},
   "source": [
    "While the vast majority of Team Fortress 2 players play the game for it's \n",
    "\n",
    "This passon lead me to dedicate hours upon hours of my high school life bargining with other TF2 traders, in an attempt to get the best deal I could. In the span of a couple of years, I "
   ]
  },
  {
   "cell_type": "markdown",
   "metadata": {},
   "source": [
    "![](./PresentationPictures/channels4_banner.jpg) "
   ]
  },
  {
   "cell_type": "markdown",
   "metadata": {},
   "source": [
    "**Unusuals** in Team Fortress 2 work in the following way: \n",
    "\n",
    "- A couple times a year Valve adds a new crate. These crates contain cosmetic items you can wear on your characters, such as new hats or jackets. \n",
    "- Crates work like traditional loot boxes or booster packs. Each crate contain one randomized item, and in order to \"unbox\" it, a player must buy a \"key\" from the in-game store for approximatly $2.50. Each key works on only one crate and is then consumed. (This is how the game is monitized by Valve.)\n",
    "- Most items in crates are worth less than fifty cents. However, you have an approximatly 1% chance to unbox an **unusual** item, an item with a rare particle effect surrounding it. These items can be worth anywhere from 10 dollars to 6,000 dollars."
   ]
  },
  {
   "cell_type": "markdown",
   "metadata": {},
   "source": [
    "**On the left is a regular hat. On the right is an unusual version of the hat.**"
   ]
  },
  {
   "cell_type": "markdown",
   "metadata": {},
   "source": [
    "Each unusual is uniquely identified by the combination of a **cosmetic** and a **particle effect**. There are a plethora of different unusuals out there, and depending on how good the item looks, some unusuals may sell for massive amounts of money. Once an unusual sells, it is priced at that amount on the community website **backpack.tf**, priced using the in-game currency of keys (the same keys you use to unbox crates). Since each key costs 2.50, an unusual priced at 10 keys would be worth roughly 25 dollars. An unusual priced at 100 keys would be worth 250 dollars, and so on."
   ]
  },
  {
   "cell_type": "markdown",
   "metadata": {},
   "source": [
    "## The Goal of the Project"
   ]
  },
  {
   "cell_type": "markdown",
   "metadata": {},
   "source": [
    "As a YouTuber, many people looked up to me in the trading community, and I would often be asked for trading advice. Some of the most common questions I got asked were the following:\n",
    "\n",
    "- What is the **best crate** to unbox to maximize the chance of unboxing an expensive unusual?\n",
    "- I just unboxed an unusual, but it doesn't have a community price yet. **How much is it worth?**\n",
    "\n",
    "While I've always been able to give people rough answers to these questions, I've never been able to systematically determine the correct answer. Until now. Using as much data as I can find about every unusual that exists or could possibly exist, I am going to try and answer both of these questions in this project. "
   ]
  },
  {
   "cell_type": "markdown",
   "metadata": {},
   "source": [
    "Before I start wrangling the data, I think it is important to point out that while these two questions might seem very different from each other, it turns out they are inexplicably linked. You'll see why this is once I start visualizing the data, but for now just keep this in the back of your head."
   ]
  },
  {
   "cell_type": "markdown",
   "metadata": {},
   "source": [
    "Given the setup so far, my research objectives are as follows:\n",
    "- Analyze the data to find the crate with the highest expected unusual value (EV).\n",
    "- Build a machine learning model to predict the price of unpriced unusuals."
   ]
  },
  {
   "cell_type": "markdown",
   "metadata": {},
   "source": [
    "## Collecting & Cleaning the Data"
   ]
  },
  {
   "cell_type": "markdown",
   "metadata": {},
   "source": [
    "Since I couldn't find any csv files containing the data I needed, I had to manually compile everything myself. This involved scraping many pages from the **Team Fortress 2 Wiki**, using a **JSON API** to download unusual prices (from the website Backpack.tf), and creating a **Google survey** to get additional data from experienced traders.\n",
    "\n",
    "\n",
    "**In total, the following data was pulled, compiled, and cleaned.**\n",
    "\n",
    "- List of all posible unusual cosmetics scraped from the TF2 Wiki [found here](https://wiki.teamfortress.com/wiki/Template:Unusual_quality_table).\n",
    "- List of all possible unusual effects scraped from the TF2 Wiki [found here](https://wiki.teamfortress.com/wiki/Unusual).\n",
    "- List of unusual effect IDs scraped from Backpack.tf [found here](https://backpack.tf/developer/particles). *Note:* These ID numbers are only needed to fetch pricing data from Backpack.tf and are not used in any machine learning models.  \n",
    "- List of which unusual cosmetics can be \"unboxed\" out of each crate, scraped from a community-created guide, [found here](https://steamcommunity.com/sharedfiles/filedetails/?id=731640447). \n",
    "- List of additional descriptive data from each unusual, compiled by scraping each cosmetic's wiki page, [found here](https://wiki.teamfortress.com/wiki/).\n",
    "- List of which cosmetics are \"robo\" hats (robotic versions of normal hats), scraped from the TF2 Wiki [found here](https://wiki.teamfortress.com/wiki/Robotic_Boogaloo).\n",
    "- List of effect ratings (on a scale of 0 to 5), compiled via a Google Fourm sent out to experienced traders. The fourm can be [found here](https://docs.google.com/forms/d/e/1FAIpQLSd2kf5WsAKLIQfwrujgNKBFBhWeS0_ukJkfob3hzJ4-kw7XAA/viewform).\n",
    "- Prices for each unusual from Backpack.tf's JSON API, [found here](https://backpack.tf/developer)."
   ]
  },
  {
   "cell_type": "markdown",
   "metadata": {},
   "source": [
    "Once I had downloaded all of the data, I merged everything into a single master dataset. Since this dataset included all possible combinations of unusuals (even if they didn't exist) the dataset was massive, with over 41,000 observations!"
   ]
  },
  {
   "cell_type": "markdown",
   "metadata": {},
   "source": [
    "![](./PresentationPictures/DatasetAtThisPoint.PNG) "
   ]
  },
  {
   "cell_type": "markdown",
   "metadata": {},
   "source": [
    "One thing I noticed about my dataset was that it is almost entierly categorical. While I knew `Price` and `Effect Community Rating` were going to be crucial for machine learning, I realized quickly that `Months Since Last Price Update` had no correlation to anything else in the dataset, leaving the dataset filled with 2 quantitative variables and almost 10 categorical variables. \n",
    "\n",
    "Unfortionatly, this large amount of categorical variables turned out to significantly hamper the performance of any K-Nearest Neighbors models I ran on the data. This was because there were some rare cosmetics in the dataset with only a few priced unusuals, causing KKN to fail to find enough reasonable neighbhors. For example, if I used a larger value of k such as 20 (which was important for predicting low value unusuals) and tried to predict the price of a cosmetic with only 5 priced unusuals, the model would find those 5 neigbhors and then grab 15 other neighbors that were quite a bit \"further away\", simply because it couldn't compare variables such as `Name` or `Effect` very well and wouldn't be able to find the \"next best\" neighbors.\n",
    "\n",
    "To solve this issue, I created two new quantitative metrics, `Median Hat Rating` and `Median Effect Rating`  using existing variables. \n",
    "\n",
    "To define `Median Hat Rating`, I found the median value of each unusual **effect** and merged this data as an additional column in the dataset. Next, I took the difference between the price of each unusual and it's effect's median price, yeilding me a postive or negative value depending on if the unusual was priced higher than the median value for that effect. Using these numbers, I then  grouped all of these values by their **cosmetic (hat)** and took the median of these values. This yeilded me values for each cosmetic that were either positive or negative. A positive value indicated that each of the cosmetic's effects were higher than the average (thus better!), and a negative value indicated that each of each of the cosmetic's effects were lower than the average (thus worse). This gave me a tier order distinguishing the best cosmetics from the worst ones. \n",
    "\n",
    "To defined `Median Effect Rating`, I used the same theory was I used for `Median Hat Rating`, except I swapped effects for cosmetics and effects for cosmetics. This gave me a tier order for effects (similar to `Effect Community Rating`, as it turned out), that couuld distinguish the best effects from the worst effects.\n"
   ]
  },
  {
   "cell_type": "markdown",
   "metadata": {},
   "source": [
    "![](./PresentationPictures/medianHatRating.PNG)\n",
    "![](./PresentationPictures/medianEffectRating.PNG)"
   ]
  },
  {
   "cell_type": "markdown",
   "metadata": {},
   "source": [
    "While the numbers don't look very pretty here, It doesn't really matter since I plan to standardized the data before fitting it to a machine learning model."
   ]
  },
  {
   "cell_type": "markdown",
   "metadata": {},
   "source": [
    "## Visualizing the Data"
   ]
  },
  {
   "cell_type": "markdown",
   "metadata": {},
   "source": [
    "Because I had a lot of categorical variables, I found Altair plots to be a significant asset in visualizing my data, as I could display each variable via the size of points, color of points, or in different facets. "
   ]
  },
  {
   "cell_type": "markdown",
   "metadata": {},
   "source": [
    "![](./PresentationPictures/altairplot1.PNG)"
   ]
  },
  {
   "cell_type": "markdown",
   "metadata": {},
   "source": [
    "In TF2 there are two main types of unusuals, unusual **hats (cosmetics)** and unusual **taunts**. This first plot displays the differences between the two types. It is immediatly noticible that:\n",
    "\n",
    "1. There are far more hats than taunts.\n",
    "2. Taunts are very inexpensive. No hat is worth less than around 8 keys, yet there are a significant number of taunts worth as little as 4 keys.\n",
    "\n",
    "Since the points are colored based on the class (the playable character) the unusuals are for, you can also notice that unusuals that can be worn on more than one class (denoted in **orange** and **yellow**) are worth, on average, much more than unusuals that can only be worn on one class (denoted in **blue**)."
   ]
  },
  {
   "cell_type": "markdown",
   "metadata": {},
   "source": [
    "Both this graph and the graph below also show that there is a roughly linear correlation between the price of an unusual and how high the community rated it's effect. This makes quite a bit of sense, since the market is driven by suppy and demand. If more people like the look of an unusual, it is probably going to sell for higher!"
   ]
  },
  {
   "cell_type": "markdown",
   "metadata": {},
   "source": [
    "![](./PresentationPictures/altairplot2.PNG)"
   ]
  },
  {
   "cell_type": "markdown",
   "metadata": {},
   "source": [
    "Just as there are far more unusual **hats** than **taunts**, there are more different types of **hats** than **taunts**. The plot above makes three distinctions in terms of types of hats. On the left are **Robotic** (**\"Robo\"** for short) hats. **Robo** hats are robotic versions of other hats already in the game, added during a game update theamed around robots. In general the community thinks that these hats are ugly compared to their normal counterparts, and this disdain is visualized through the lower prices of **robo** hats in the graph above.\n",
    "\n",
    "On the other hand, unusual **miscs** (shown on the right) operate in an almost opposite fashion. Unusual **miscs** are unusuals that, due to their shape and size, can we worn at the same time as another unusual hat. Due to the fact that players can combine different unusual effects to create flashy particle displays, unusual **miscs** are in very high demand, something that can be visualized through the higher prices of hats in the graph above.\n",
    "\n",
    "In 2015, Valve added an additional rarity system to crate-based items. Instead of every item having the same underlying rarity, there became four distinct rarities (called **grades**), **Mercenary**, **Commando**, **Assassin** and **Elite**. When unboxing a crate, you have about an **80%** chance of getting a **Mercenary** item, a **15%** chance of getting a **Commando** item, a **3%** chance of getting an **Assassin** item, and a **0.6%** chance of getting an elite item. When you remember that you have a **1%** chance of unboxing an unusual in the first place, it follows that the chance to pull an **unusual elite grade** item is 0.01 * 0.006 or as low as **0.006%!** As such, there are barley any **elite** items in existance (and subsequently in the dataset). The plot above reflects these rarities in the price of each item, as **Mercenary** grade items tend to be fairly cheap compared to **Assassin** and **Elite** grade items. \n",
    "\n",
    "Interestingly enough, you can also tell from the graph that the Robotic Boogaloo (**robo**) update occured *before* 2015, since there are no graded robo items. You can also tell that Valve has added few miscs to the game since 2015, as there are only a few **Commando** grade miscs and no miscs of any other grade."
   ]
  },
  {
   "cell_type": "markdown",
   "metadata": {},
   "source": [
    "![](./PresentationPictures/bestcratesfirst.PNG)"
   ]
  },
  {
   "cell_type": "code",
   "execution_count": null,
   "metadata": {},
   "outputs": [],
   "source": []
  }
 ],
 "metadata": {
  "kernelspec": {
   "display_name": "Python 3",
   "language": "python",
   "name": "python3"
  },
  "language_info": {
   "codemirror_mode": {
    "name": "ipython",
    "version": 3
   },
   "file_extension": ".py",
   "mimetype": "text/x-python",
   "name": "python",
   "nbconvert_exporter": "python",
   "pygments_lexer": "ipython3",
   "version": "3.7.1"
  }
 },
 "nbformat": 4,
 "nbformat_minor": 2
}
